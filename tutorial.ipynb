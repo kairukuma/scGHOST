{
 "cells": [
  {
   "cell_type": "markdown",
   "metadata": {},
   "source": [
    "### Generate JSON config file"
   ]
  },
  {
   "cell_type": "markdown",
   "metadata": {},
   "source": [
    "Enter scGHOST settings"
   ]
  },
  {
   "cell_type": "code",
   "execution_count": 1,
   "metadata": {},
   "outputs": [],
   "source": [
    "# filepath settings\n",
    "schic_directory = \"/directory/of/higashi/imputed/maps\"\n",
    "label_info_path = \"/path/to/label_info.pickle\"\n",
    "label_info_cell_type_key = \"cluster label\"\n",
    "data_directory = \"/directory/to/save/scghost/outputs/\"\n",
    "\n",
    "NUM_CHROMOSOMES = 22\n",
    "chromosomes = {chrom_num : {\n",
    "    'adj' : f'chr{chrom_num}_sparse_adj.npy',\n",
    "    'imputed' : f'chr{chrom_num}_exp1_nbr_5_impute.hdf5',\n",
    "    'integer' : chrom_num,\n",
    "} for chrom_num in range(1,NUM_CHROMOSOMES+1)}\n",
    "\n",
    "chrom_sizes = 'data/hg19.chrom.sizes'\n",
    "chrom_indices = None\n",
    "embeddings_path = \"/path/to/exp1_0_origin.npy\"\n",
    "higashi_scab_path = \"/path/to/higashi/scAB.hdf5\"\n",
    "cell_type = None\n",
    "\n",
    "# hyperparameters\n",
    "random_walk_num_walks = 50\n",
    "random_walk_ignore_top = 0.02\n",
    "random_walk_top_percentile = 0.25\n",
    "eps = 1e-8\n",
    "num_clusters = 5\n",
    "batch_size = 16\n",
    "epochs = 5\n",
    "resolution = 500000\n",
    "neighbor_contacts = False\n",
    "kmeans_init = 1\n",
    "\n",
    "# misc settings\n",
    "nearest_neighbor_override = None\n",
    "gpu_uniques = True\n",
    "cluster_gpu_caching = True"
   ]
  },
  {
   "cell_type": "markdown",
   "metadata": {},
   "source": [
    "Generate python dictionary"
   ]
  },
  {
   "cell_type": "code",
   "execution_count": 2,
   "metadata": {},
   "outputs": [],
   "source": [
    "settings_dict = {\n",
    "    'schic_directory': schic_directory,\n",
    "    'label_info': {\n",
    "        'path': label_info_path,\n",
    "        'cell_type_key': label_info_cell_type_key,\n",
    "    },\n",
    "    'data_directory': data_directory,\n",
    "    'chromosomes': chromosomes,\n",
    "    'chrom_sizes': chrom_sizes,\n",
    "    'chrom_indices': chrom_indices,\n",
    "    'embeddings_path': embeddings_path,\n",
    "    'higashi_scab_path': higashi_scab_path,\n",
    "    'cell_type': cell_type,\n",
    "    'random_walk': {\n",
    "        'num_walks': random_walk_num_walks,\n",
    "        'ignore_top': random_walk_ignore_top,\n",
    "        'top_percentile': random_walk_top_percentile,\n",
    "    },\n",
    "    'epis': eps,\n",
    "    'num_clusters': num_clusters,\n",
    "    'batch_size': batch_size,\n",
    "    'epochs': epochs,\n",
    "    'resolution': resolution,\n",
    "    'neighbor_contacts': neighbor_contacts,\n",
    "    'nearest_neighbor_override': nearest_neighbor_override,\n",
    "    'gpu_uniques': gpu_uniques,\n",
    "    'cluster_gpu_caching': cluster_gpu_caching,\n",
    "    'kmeans_init': kmeans_init,\n",
    "}\n",
    "\n",
    "\n",
    "import json \n",
    "\n",
    "with open(\"tutorial.json\", \"w\") as outfile: \n",
    "    json_string = json.dumps(settings_dict, indent=4)\n",
    "    outfile.write(json_string)"
   ]
  },
  {
   "cell_type": "markdown",
   "metadata": {},
   "source": [
    "### Run scGHOST"
   ]
  },
  {
   "cell_type": "code",
   "execution_count": null,
   "metadata": {},
   "outputs": [],
   "source": [
    "import subprocess\n",
    "\n",
    "subprocess.call(['python scghost.py --config tutorial.json'],shell=True)"
   ]
  },
  {
   "cell_type": "markdown",
   "metadata": {},
   "source": [
    "### Format scGHOST output"
   ]
  },
  {
   "cell_type": "code",
   "execution_count": 2,
   "metadata": {},
   "outputs": [
    {
     "name": "stderr",
     "output_type": "stream",
     "text": [
      "100%|██████████| 4238/4238 [01:01<00:00, 69.12it/s]\n"
     ]
    }
   ],
   "source": [
    "import pickle\n",
    "import os\n",
    "from tqdm import trange\n",
    "\n",
    "# enter labels.pkl path\n",
    "label_filepath = '/mnt/e/data/scghost_pfc_output/publication_results/labels.pkl'\n",
    "labels = pickle.load(open(label_filepath,'rb'))\n",
    "\n",
    "# enter cropped_indices.pkl path\n",
    "cropped_indices_filepath = '/mnt/e/data/scghost_pfc_output/publication_results/cropped_indices.pkl'\n",
    "cropped_indices = pickle.load(open(cropped_indices_filepath,'rb'))\n",
    "\n",
    "# enter resolution\n",
    "resolution = 500000\n",
    "\n",
    "# enter bed file output directory\n",
    "bed_file_directory = 'bed_files'\n",
    "chrom_prefix = 'chr' # change this to '' if chromosomes are labeled chr1,chr2,... instead of 1,2,...\n",
    "\n",
    "sc_subcompartment_names = ['scA1','scA2','scB1','scB2','scB3'] # default for scGHOST k=5\n",
    "\n",
    "os.makedirs(bed_file_directory,exist_ok=True)\n",
    "\n",
    "num_cells = labels[ list( labels.keys() )[0] ].shape[0]\n",
    "\n",
    "for cell_num in trange(num_cells):\n",
    "\n",
    "    with open(os.path.join(bed_file_directory,f'cell_{cell_num}.bed'),'w') as f:\n",
    "\n",
    "        for chromosome in labels:\n",
    "\n",
    "            annotations = labels[chromosome][cell_num]\n",
    "\n",
    "            for locus in range(len(annotations)):\n",
    "\n",
    "                position = cropped_indices[chromosome][locus]\n",
    "                annotation = sc_subcompartment_names[ annotations[locus] ]\n",
    "\n",
    "                line = f'{chrom_prefix}{chromosome}\\t{int(position * resolution)}\\t{int((position+1) * resolution)}\\t{annotation}\\n'\n",
    "                f.write(line)"
   ]
  },
  {
   "cell_type": "markdown",
   "metadata": {},
   "source": [
    "### Generate scatter plot"
   ]
  },
  {
   "cell_type": "code",
   "execution_count": 1,
   "metadata": {},
   "outputs": [
    {
     "name": "stderr",
     "output_type": "stream",
     "text": [
      "/mnt/c/Users/turke/scghost_public/scGHOST/modules/analysis.py:45: RuntimeWarning: invalid value encountered in divide\n",
      "  pseudo_bulk /= cov[None,:]\n",
      "/mnt/c/Users/turke/scghost_public/scGHOST/modules/analysis.py:46: RuntimeWarning: invalid value encountered in divide\n",
      "  pseudo_bulk /= cov[:,None]\n",
      "100%|██████████| 4238/4238 [00:10<00:00, 420.16it/s]\n",
      "100%|██████████| 4238/4238 [00:13<00:00, 323.12it/s]\n",
      "100%|██████████| 4238/4238 [00:07<00:00, 530.87it/s]\n",
      "100%|██████████| 4238/4238 [00:08<00:00, 473.63it/s]\n",
      "100%|██████████| 4238/4238 [00:05<00:00, 731.00it/s]\n",
      "100%|██████████| 4238/4238 [00:05<00:00, 790.55it/s]\n",
      "100%|██████████| 4238/4238 [00:06<00:00, 684.44it/s]\n",
      "100%|██████████| 4238/4238 [00:05<00:00, 733.62it/s] \n",
      "100%|██████████| 4238/4238 [00:03<00:00, 1174.09it/s]\n",
      "100%|██████████| 4238/4238 [00:05<00:00, 818.62it/s] \n",
      "100%|██████████| 4238/4238 [00:04<00:00, 904.82it/s] \n",
      "100%|██████████| 4238/4238 [00:04<00:00, 966.01it/s] \n",
      "100%|██████████| 4238/4238 [00:02<00:00, 1833.86it/s]\n",
      "100%|██████████| 4238/4238 [00:03<00:00, 1252.75it/s]\n",
      "100%|██████████| 4238/4238 [00:01<00:00, 2557.56it/s]\n",
      "100%|██████████| 4238/4238 [00:01<00:00, 2641.86it/s]\n",
      "100%|██████████| 4238/4238 [00:01<00:00, 2954.00it/s]\n",
      "100%|██████████| 4238/4238 [00:01<00:00, 3383.79it/s]\n",
      "100%|██████████| 4238/4238 [00:00<00:00, 4811.81it/s]\n",
      "100%|██████████| 4238/4238 [00:01<00:00, 4216.22it/s]\n",
      "100%|██████████| 4238/4238 [00:00<00:00, 9060.52it/s]\n",
      "100%|██████████| 4238/4238 [00:00<00:00, 10878.97it/s]\n"
     ]
    }
   ],
   "source": [
    "# sort chromosome subcompartments using single cell AB compartments from Higashi\n",
    "from modules.analysis import prep_scatterplot\n",
    "\n",
    "prep_scatterplot(\n",
    "    '/mnt/e/data/scghost_pfc_output/working_results/',\n",
    "    '/mnt/e/data/scghost_pfc_output/chrom_indices.pkl',\n",
    "    '/mnt/e/data/pfc/scAB.hdf5'\n",
    ")"
   ]
  },
  {
   "cell_type": "code",
   "execution_count": 1,
   "metadata": {},
   "outputs": [
    {
     "name": "stderr",
     "output_type": "stream",
     "text": [
      "/home/kyle/anaconda3/envs/dr/lib/python3.10/site-packages/umap/distances.py:1063: NumbaDeprecationWarning: \u001b[1mThe 'nopython' keyword argument was not supplied to the 'numba.jit' decorator. The implicit default value for this argument is currently False, but it will be changed to True in Numba 0.59.0. See https://numba.readthedocs.io/en/stable/reference/deprecation.html#deprecation-of-object-mode-fall-back-behaviour-when-using-jit for details.\u001b[0m\n",
      "  @numba.jit()\n",
      "/home/kyle/anaconda3/envs/dr/lib/python3.10/site-packages/umap/distances.py:1071: NumbaDeprecationWarning: \u001b[1mThe 'nopython' keyword argument was not supplied to the 'numba.jit' decorator. The implicit default value for this argument is currently False, but it will be changed to True in Numba 0.59.0. See https://numba.readthedocs.io/en/stable/reference/deprecation.html#deprecation-of-object-mode-fall-back-behaviour-when-using-jit for details.\u001b[0m\n",
      "  @numba.jit()\n",
      "/home/kyle/anaconda3/envs/dr/lib/python3.10/site-packages/umap/distances.py:1086: NumbaDeprecationWarning: \u001b[1mThe 'nopython' keyword argument was not supplied to the 'numba.jit' decorator. The implicit default value for this argument is currently False, but it will be changed to True in Numba 0.59.0. See https://numba.readthedocs.io/en/stable/reference/deprecation.html#deprecation-of-object-mode-fall-back-behaviour-when-using-jit for details.\u001b[0m\n",
      "  @numba.jit()\n",
      "/home/kyle/.local/lib/python3.10/site-packages/tqdm/auto.py:21: TqdmWarning: IProgress not found. Please update jupyter and ipywidgets. See https://ipywidgets.readthedocs.io/en/stable/user_install.html\n",
      "  from .autonotebook import tqdm as notebook_tqdm\n",
      "/home/kyle/anaconda3/envs/dr/lib/python3.10/site-packages/umap/umap_.py:660: NumbaDeprecationWarning: \u001b[1mThe 'nopython' keyword argument was not supplied to the 'numba.jit' decorator. The implicit default value for this argument is currently False, but it will be changed to True in Numba 0.59.0. See https://numba.readthedocs.io/en/stable/reference/deprecation.html#deprecation-of-object-mode-fall-back-behaviour-when-using-jit for details.\u001b[0m\n",
      "  @numba.jit()\n"
     ]
    },
    {
     "name": "stdout",
     "output_type": "stream",
     "text": [
      "['L2/3' 'L2/3' 'L2/3' ... 'L4' 'Astro' 'ODC']\n",
      "<KeysViewHDF5 ['compartment']>\n"
     ]
    },
    {
     "name": "stderr",
     "output_type": "stream",
     "text": [
      "100%|██████████| 4238/4238 [00:04<00:00, 984.72it/s] \n"
     ]
    },
    {
     "name": "stdout",
     "output_type": "stream",
     "text": [
      "(4238, 5432)\n"
     ]
    }
   ],
   "source": [
    "from modules.analysis import sc_compartment2embedding\n",
    "\n",
    "sc_compartment2embedding('./tutorial_embeds.hdf5','/mnt/e/data/pfc/','tutorial_scatter.pdf')"
   ]
  }
 ],
 "metadata": {
  "kernelspec": {
   "display_name": "dr",
   "language": "python",
   "name": "python3"
  },
  "language_info": {
   "codemirror_mode": {
    "name": "ipython",
    "version": 3
   },
   "file_extension": ".py",
   "mimetype": "text/x-python",
   "name": "python",
   "nbconvert_exporter": "python",
   "pygments_lexer": "ipython3",
   "version": "3.10.11"
  }
 },
 "nbformat": 4,
 "nbformat_minor": 2
}
