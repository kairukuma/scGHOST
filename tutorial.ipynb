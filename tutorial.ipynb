{
 "cells": [
  {
   "cell_type": "markdown",
   "metadata": {},
   "source": [
    "### Generate JSON config file"
   ]
  },
  {
   "cell_type": "markdown",
   "metadata": {},
   "source": [
    "Enter scGHOST settings"
   ]
  },
  {
   "cell_type": "code",
   "execution_count": 1,
   "metadata": {},
   "outputs": [],
   "source": [
    "# filepath settings\n",
    "schic_directory = \"/directory/of/higashi/imputed/maps\"\n",
    "label_info_path = \"/path/to/label_info.pickle\"\n",
    "label_info_cell_type_key = \"cluster label\"\n",
    "data_directory = \"/directory/to/save/scghost/outputs/\"\n",
    "\n",
    "NUM_CHROMOSOMES = 22\n",
    "chromosomes = {chrom_num : {\n",
    "    'adj' : f'chr{chrom_num}_sparse_adj.npy',\n",
    "    'imputed' : f'chr{chrom_num}_exp1_nbr_5_impute.hdf5',\n",
    "    'integer' : chrom_num,\n",
    "} for chrom_num in range(1,NUM_CHROMOSOMES+1)}\n",
    "\n",
    "chrom_sizes = 'data/hg19.chrom.sizes'\n",
    "chrom_indices = None\n",
    "embeddings_path = \"/path/to/exp1_0_origin.npy\"\n",
    "higashi_scab_path = \"/path/to/higashi/scAB.hdf5\"\n",
    "cell_type = None\n",
    "\n",
    "# hyperparameters\n",
    "random_walk_num_walks = 50\n",
    "random_walk_ignore_top = 0.02\n",
    "random_walk_top_percentile = 0.25\n",
    "eps = 1e-8\n",
    "num_clusters = 5\n",
    "batch_size = 16\n",
    "epochs = 5\n",
    "resolution = 500000\n",
    "neighbor_contacts = False\n",
    "kmeans_init = 1\n",
    "\n",
    "# misc settings\n",
    "nearest_neighbor_override = None\n",
    "gpu_uniques = True\n",
    "cluster_gpu_caching = True"
   ]
  },
  {
   "cell_type": "markdown",
   "metadata": {},
   "source": [
    "Generate python dictionary"
   ]
  },
  {
   "cell_type": "code",
   "execution_count": 2,
   "metadata": {},
   "outputs": [],
   "source": [
    "settings_dict = {\n",
    "    'schic_directory': schic_directory,\n",
    "    'label_info': {\n",
    "        'path': label_info_path,\n",
    "        'cell_type_key': label_info_cell_type_key,\n",
    "    },\n",
    "    'data_directory': data_directory,\n",
    "    'chromosomes': chromosomes,\n",
    "    'chrom_sizes': chrom_sizes,\n",
    "    'chrom_indices': chrom_indices,\n",
    "    'embeddings_path': embeddings_path,\n",
    "    'higashi_scab_path': higashi_scab_path,\n",
    "    'cell_type': cell_type,\n",
    "    'random_walk': {\n",
    "        'num_walks': random_walk_num_walks,\n",
    "        'ignore_top': random_walk_ignore_top,\n",
    "        'top_percentile': random_walk_top_percentile,\n",
    "    },\n",
    "    'epis': eps,\n",
    "    'num_clusters': num_clusters,\n",
    "    'batch_size': batch_size,\n",
    "    'epochs': epochs,\n",
    "    'resolution': resolution,\n",
    "    'neighbor_contacts': neighbor_contacts,\n",
    "    'nearest_neighbor_override': nearest_neighbor_override,\n",
    "    'gpu_uniques': gpu_uniques,\n",
    "    'cluster_gpu_caching': cluster_gpu_caching,\n",
    "    'kmeans_init': kmeans_init,\n",
    "}\n",
    "\n",
    "\n",
    "import json \n",
    "\n",
    "with open(\"tutorial.json\", \"w\") as outfile: \n",
    "    json_string = json.dumps(settings_dict, indent=4)\n",
    "    outfile.write(json_string)"
   ]
  },
  {
   "cell_type": "markdown",
   "metadata": {},
   "source": [
    "### Run scGHOST"
   ]
  },
  {
   "cell_type": "code",
   "execution_count": null,
   "metadata": {},
   "outputs": [],
   "source": [
    "import subprocess\n",
    "\n",
    "subprocess.call(['python scghost.py --config tutorial.json'],shell=True)"
   ]
  },
  {
   "cell_type": "markdown",
   "metadata": {},
   "source": [
    "### Format scGHOST output"
   ]
  },
  {
   "cell_type": "code",
   "execution_count": 2,
   "metadata": {},
   "outputs": [
    {
     "name": "stderr",
     "output_type": "stream",
     "text": [
      "100%|██████████| 4238/4238 [01:01<00:00, 69.12it/s]\n"
     ]
    }
   ],
   "source": [
    "import pickle\n",
    "import os\n",
    "from tqdm import trange\n",
    "\n",
    "# enter labels.pkl path\n",
    "label_filepath = '/mnt/e/data/scghost_pfc_output/publication_results/labels.pkl'\n",
    "labels = pickle.load(open(label_filepath,'rb'))\n",
    "\n",
    "# enter cropped_indices.pkl path\n",
    "cropped_indices_filepath = '/mnt/e/data/scghost_pfc_output/publication_results/cropped_indices.pkl'\n",
    "cropped_indices = pickle.load(open(cropped_indices_filepath,'rb'))\n",
    "\n",
    "# enter resolution\n",
    "resolution = 500000\n",
    "\n",
    "# enter bed file output directory\n",
    "bed_file_directory = 'bed_files'\n",
    "chrom_prefix = 'chr' # change this to '' if chromosomes are labeled chr1,chr2,... instead of 1,2,...\n",
    "\n",
    "sc_subcompartment_names = ['scA1','scA2','scB1','scB2','scB3'] # default for scGHOST k=5\n",
    "\n",
    "os.makedirs(bed_file_directory,exist_ok=True)\n",
    "\n",
    "num_cells = labels[ list( labels.keys() )[0] ].shape[0]\n",
    "\n",
    "for cell_num in trange(num_cells):\n",
    "\n",
    "    with open(os.path.join(bed_file_directory,f'cell_{cell_num}.bed'),'w') as f:\n",
    "\n",
    "        for chromosome in labels:\n",
    "\n",
    "            annotations = labels[chromosome][cell_num]\n",
    "\n",
    "            for locus in range(len(annotations)):\n",
    "\n",
    "                position = cropped_indices[chromosome][locus]\n",
    "                annotation = sc_subcompartment_names[ annotations[locus] ]\n",
    "\n",
    "                line = f'{chrom_prefix}{chromosome}\\t{int(position * resolution)}\\t{int((position+1) * resolution)}\\t{annotation}\\n'\n",
    "                f.write(line)"
   ]
  }
 ],
 "metadata": {
  "kernelspec": {
   "display_name": "dr",
   "language": "python",
   "name": "python3"
  },
  "language_info": {
   "codemirror_mode": {
    "name": "ipython",
    "version": 3
   },
   "file_extension": ".py",
   "mimetype": "text/x-python",
   "name": "python",
   "nbconvert_exporter": "python",
   "pygments_lexer": "ipython3",
   "version": "3.10.11"
  }
 },
 "nbformat": 4,
 "nbformat_minor": 2
}
